{
 "cells": [
  {
   "cell_type": "code",
   "execution_count": 8,
   "metadata": {},
   "outputs": [
    {
     "name": "stdout",
     "output_type": "stream",
     "text": [
      "lista inicial: [1, 1, 2, 3, 4, 4, 5, 6, 7, 7, 8, 8]\n",
      "Lista sin números duplicados [1, 2, 3, 4, 5, 6, 7, 8]\n",
      "Números duplicados: [1, 4, 7, 8]\n"
     ]
    }
   ],
   "source": [
    "numeros = [1, 1, 2, 3, 4, 4, 5, 6, 7, 7, 8, 8]\n",
    "print(f'lista inicial: {numeros}')\n",
    "numeros_duplicados = []\n",
    "\n",
    "numeros_sin_duplicados = []\n",
    "\n",
    "for num in numeros:\n",
    "    if numeros.count(num) > 1:\n",
    "        if num not in numeros_duplicados:\n",
    "            numeros_duplicados.append(num)\n",
    "            numeros_sin_duplicados.append(num)\n",
    "    else:\n",
    "        numeros_sin_duplicados.append(num)\n",
    "\n",
    "print(f'Lista sin números duplicados {numeros_sin_duplicados}')\n",
    "print(f'Números duplicados: {numeros_duplicados}')\n"
   ]
  },
  {
   "cell_type": "markdown",
   "metadata": {},
   "source": [
    "unir dos listas y ordenarlas de forma ascendente "
   ]
  },
  {
   "cell_type": "code",
   "execution_count": 9,
   "metadata": {},
   "outputs": [
    {
     "name": "stdout",
     "output_type": "stream",
     "text": [
      "[2, 2, 3, 4, 4, 6, 6, 9]\n"
     ]
    }
   ],
   "source": [
    "lista1 = [4,3,6,2]\n",
    "lista2 = [9,4,6,2]\n",
    "\n",
    "lista_combinada = lista1 + lista2   \n",
    "\n",
    "# imprimir la lista combinada en forma ascendente \n",
    "print(sorted(lista_combinada))"
   ]
  },
  {
   "cell_type": "markdown",
   "metadata": {},
   "source": [
    "encuentra el segundo número mas grande de una lista "
   ]
  },
  {
   "cell_type": "code",
   "execution_count": 14,
   "metadata": {},
   "outputs": [
    {
     "name": "stdout",
     "output_type": "stream",
     "text": [
      "El segundo número mas grande es 7\n"
     ]
    }
   ],
   "source": [
    "numeros = [6,7,4,5,6,9,2,1]\n",
    "\n",
    "# ordenar los números de menor a mayor \n",
    "numeros.sort()\n",
    "\n",
    "# imprimir el segundo número mas grande \n",
    "print(f'El segundo número mas grande es {numeros[-2]}')"
   ]
  },
  {
   "cell_type": "markdown",
   "metadata": {},
   "source": [
    "pedirle al usuario que ingrese un número y que devuelva la cantidad de números que son mayores al númreo ingresado de la lista "
   ]
  },
  {
   "cell_type": "code",
   "execution_count": 15,
   "metadata": {},
   "outputs": [
    {
     "name": "stdout",
     "output_type": "stream",
     "text": [
      "hay 7 números mas grandes que el tuyo en la lista.\n"
     ]
    }
   ],
   "source": [
    "numeros = [7,5,4,3,9,10,65,7,3,45,76,54,23]\n",
    "# pedirle al usuario que ingrese un número \n",
    "numero_usuario = int(input('Ingresa un número entero: '))\n",
    "\n",
    "# bucle para comparar los números \n",
    "contador = 0\n",
    "for numero in numeros: \n",
    "    if numero > numero_usuario:\n",
    "        contador += 1\n",
    "print('hay', contador, 'números mas grandes que el tuyo en la lista.')\n"
   ]
  },
  {
   "cell_type": "markdown",
   "metadata": {},
   "source": [
    "numeros de la lista divisibles por número ingresado "
   ]
  },
  {
   "cell_type": "code",
   "execution_count": 21,
   "metadata": {},
   "outputs": [
    {
     "name": "stdout",
     "output_type": "stream",
     "text": [
      "La suma de los númros divisibles entre 2 es 18\n"
     ]
    }
   ],
   "source": [
    "numeros = [6,7,4,5,6,9,2,1]\n",
    "# pedirle al usuario que ingrese un número \n",
    "numero_usuario = int(input('Ingresa un número entero: '))\n",
    "\n",
    "# bucle para sumar los números divisibles entre el número del usuario \n",
    "suma = 0\n",
    "for numero in numeros:\n",
    "    if numero % numero_usuario == 0:\n",
    "        suma += numero\n",
    "print(f'La suma de los númros divisibles entre {numero_usuario} es {suma}')"
   ]
  },
  {
   "cell_type": "markdown",
   "metadata": {},
   "source": [
    "encontrar el número inferior al numero introducido en la lista "
   ]
  },
  {
   "cell_type": "code",
   "execution_count": 24,
   "metadata": {},
   "outputs": [
    {
     "name": "stdout",
     "output_type": "stream",
     "text": [
      "el número mas grande detrás de 8 es 7.\n"
     ]
    }
   ],
   "source": [
    "numeros = [6,7,4,5,6,9,2,1]\n",
    "# pedirle al usuario que ingrese un número \n",
    "numero_usuario = int(input('Ingresa un número entero: '))\n",
    "\n",
    "# enocntrar el número inferior mas proximo al numero introducido\n",
    "numero_mayor = 0\n",
    "for num in numeros:\n",
    "    if num <= numero_usuario and num > numero_mayor:\n",
    "        numero_mayor = num\n",
    "print(f'el número mas grande detrás de {numero_usuario} es {numero_mayor}.')\n",
    "       "
   ]
  },
  {
   "cell_type": "markdown",
   "metadata": {},
   "source": [
    "escript que extraiga dos elementos comunes de dos listas "
   ]
  },
  {
   "cell_type": "code",
   "execution_count": 25,
   "metadata": {},
   "outputs": [
    {
     "name": "stdout",
     "output_type": "stream",
     "text": [
      "[6]\n"
     ]
    }
   ],
   "source": [
    "lista1 = [1,2,3,4,5,6]\n",
    "lista2 = [6,7,8,9,10,11]\n",
    "comunes = []\n",
    "\n",
    "# comprobar si el elemento es común entre ambas listas \n",
    "for elemento in lista1:\n",
    "    if elemento in lista2:\n",
    "        comunes.append(elemento)\n",
    "print(comunes)"
   ]
  },
  {
   "cell_type": "markdown",
   "metadata": {},
   "source": [
    "conntar las apariciones de un elemento en una lista "
   ]
  },
  {
   "cell_type": "code",
   "execution_count": 29,
   "metadata": {},
   "outputs": [
    {
     "name": "stdout",
     "output_type": "stream",
     "text": [
      "7 aparece 2 veces en la lista\n",
      "3 aparece 2 veces en la lista\n"
     ]
    }
   ],
   "source": [
    "numeros = [7,5,4,3,9,10,65,7,3,45,76,54,23]\n",
    "numros_impresos = []\n",
    "\n",
    "# comprobar si un número se repite \n",
    "for numero in numeros:\n",
    "    if numeros.count(numero) > 1 and numero not in numros_impresos:\n",
    "        numros_impresos.append(numero)\n",
    "        print(f'{numeros[numero]} aparece {numeros.count(numero)} veces en la lista')"
   ]
  },
  {
   "cell_type": "markdown",
   "metadata": {},
   "source": [
    "separar numeros negativos de una lista y solo imprimir los positivos "
   ]
  },
  {
   "cell_type": "code",
   "execution_count": 30,
   "metadata": {},
   "outputs": [
    {
     "name": "stdout",
     "output_type": "stream",
     "text": [
      "Los números positivos son [2, 4, 6, 8].\n"
     ]
    }
   ],
   "source": [
    "numeros_mixtos = [-1,2,-3,4,-5,6,-7,8,-9]\n",
    "numeros_positivos = []\n",
    "\n",
    "# separar los positivos de los negativos \n",
    "for num in numeros_mixtos:\n",
    "    if num > 0:\n",
    "        numeros_positivos.append(num)\n",
    "print(f'Los números positivos son {numeros_positivos}.')"
   ]
  },
  {
   "cell_type": "markdown",
   "metadata": {},
   "source": [
    "crear una lista que contenga strings y que nos devuelva el tamaño de cada palabra en otra lista "
   ]
  },
  {
   "cell_type": "code",
   "execution_count": 31,
   "metadata": {},
   "outputs": [
    {
     "name": "stdout",
     "output_type": "stream",
     "text": [
      "[4, 7, 4, 4, 6, 5]\n"
     ]
    }
   ],
   "source": [
    "palabras = ['hola', 'platano', 'amor', 'memo', 'sandia', 'perro']\n",
    "tamaño_palabras = []\n",
    "\n",
    "# medir cada palabra y guradarla en la otra lista\n",
    "for palabra in palabras:\n",
    "    tamaño_palabras.append(len(palabra))\n",
    "print(tamaño_palabras)"
   ]
  },
  {
   "cell_type": "markdown",
   "metadata": {},
   "source": [
    "convertir una lsita de strings en una lista de strings en mayusculas "
   ]
  },
  {
   "cell_type": "code",
   "execution_count": 32,
   "metadata": {},
   "outputs": [
    {
     "name": "stdout",
     "output_type": "stream",
     "text": [
      "['D', 'E', 'T', 'H', 'I']\n"
     ]
    }
   ],
   "source": [
    "letras = ['d', 'e', 't', 'h', 'i']\n",
    "mayusculas = []\n",
    "\n",
    "# convertir minusculas en mayusculas \n",
    "for letra in letras:\n",
    "    mayusculas.append(letra.upper())\n",
    "print(mayusculas)"
   ]
  }
 ],
 "metadata": {
  "kernelspec": {
   "display_name": "work",
   "language": "python",
   "name": "python3"
  },
  "language_info": {
   "codemirror_mode": {
    "name": "ipython",
    "version": 3
   },
   "file_extension": ".py",
   "mimetype": "text/x-python",
   "name": "python",
   "nbconvert_exporter": "python",
   "pygments_lexer": "ipython3",
   "version": "3.9.15"
  },
  "orig_nbformat": 4
 },
 "nbformat": 4,
 "nbformat_minor": 2
}
