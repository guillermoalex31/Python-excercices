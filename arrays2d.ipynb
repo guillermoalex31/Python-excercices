{
 "cells": [
  {
   "cell_type": "code",
   "execution_count": 20,
   "metadata": {},
   "outputs": [
    {
     "name": "stdout",
     "output_type": "stream",
     "text": [
      "[1. 1. 1. 1. 1. 1. 1. 1. 1. 1. 1. 1.]\n",
      "[[1. 1. 1. 1.]\n",
      " [1. 1. 1. 1.]\n",
      " [1. 1. 1. 1.]]\n",
      "----------------------\n",
      "[[1. 1. 1. 1.]\n",
      " [1. 1. 1. 1.]\n",
      " [1. 1. 1. 1.]\n",
      " [1. 1. 1. 1.]\n",
      " [1. 1. 1. 1.]\n",
      " [1. 1. 1. 1.]]\n"
     ]
    }
   ],
   "source": [
    "#crear un array lleno de 1s donde el usuario introduzca la longitud \n",
    "import numpy as np\n",
    "longitud = 12 #int(input('Introduce la longitud del array: '))\n",
    "array = np.ones(longitud)\n",
    "print(array)\n",
    "array2d = array.reshape(3,4)\n",
    "print(array2d)\n",
    "array2 = array2d.copy()\n",
    "#concatenar los dos arrays \n",
    "arrays = np.concatenate([array2,array2d])\n",
    "print('----------------------')\n",
    "print(arrays)"
   ]
  }
 ],
 "metadata": {
  "kernelspec": {
   "display_name": "work",
   "language": "python",
   "name": "python3"
  },
  "language_info": {
   "codemirror_mode": {
    "name": "ipython",
    "version": 3
   },
   "file_extension": ".py",
   "mimetype": "text/x-python",
   "name": "python",
   "nbconvert_exporter": "python",
   "pygments_lexer": "ipython3",
   "version": "3.9.15"
  }
 },
 "nbformat": 4,
 "nbformat_minor": 2
}
