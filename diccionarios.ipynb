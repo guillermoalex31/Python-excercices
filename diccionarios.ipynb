{
 "cells": [
  {
   "cell_type": "code",
   "execution_count": 1,
   "metadata": {},
   "outputs": [
    {
     "name": "stdout",
     "output_type": "stream",
     "text": [
      "guillermo\n",
      "False\n"
     ]
    }
   ],
   "source": [
    "# crea un diccionario vacío llmado \"mi_diccionario\"\n",
    "mi_diccionario = {\n",
    "    'nombre' : 'guillermo',\n",
    "}\n",
    "\n",
    "print(mi_diccionario['nombre'])\n",
    "\n",
    "# verificar si edad eciste en el diccionario, devolver True o False \n",
    "print('edad' in mi_diccionario)\n"
   ]
  },
  {
   "cell_type": "code",
   "execution_count": 10,
   "metadata": {},
   "outputs": [
    {
     "name": "stdout",
     "output_type": "stream",
     "text": [
      "['nombre', 'edad']\n"
     ]
    }
   ],
   "source": [
    "# crea un diccionario llamado estudiante\n",
    "estudiante = {\n",
    "    'nombre' : 'pedro',\n",
    "    'edad' : 12,\n",
    "    'materia' : 'computación'\n",
    "}\n",
    "\n",
    "# actualiza edad \n",
    "estudiante['edad'] = 17\n",
    "\n",
    "# elimina materia \n",
    "estudiante.pop('materia')\n",
    "\n",
    "# imprime todas las keys del diccionario\n",
    "print([clave for clave in estudiante.keys()])"
   ]
  },
  {
   "cell_type": "code",
   "execution_count": 2,
   "metadata": {},
   "outputs": [
    {
     "name": "stdout",
     "output_type": "stream",
     "text": [
      "el número de entradas en la agenda es 4\n",
      "True\n",
      "Juan: 1234567890\n",
      "Joana: 9876543210\n",
      "Julio: 9998887777\n",
      "1234567890\n",
      "{}\n"
     ]
    }
   ],
   "source": [
    "# crea un diccionario llamado agenda \n",
    "agenda = {\n",
    "    'juan' : '1234567890',\n",
    "    'joana' : '9876543210',\n",
    "    'ximena' : '5555555555'\n",
    "}\n",
    "\n",
    "# agregar a julio a la agenda \n",
    "agenda['julio'] = '9998887777'\n",
    "\n",
    "# crear lista llamada claves que contenga las claves de cada usuario \n",
    "claves = []\n",
    "\n",
    "# imprimir el número de entradas \n",
    "print(f'el número de entradas en la agenda es {len(agenda)}')\n",
    "\n",
    "# verificar si la clave juan se encuentra en la agenda \n",
    "print('juan' in agenda)\n",
    "\n",
    "# elimina a ximena \n",
    "agenda.pop('ximena')\n",
    "\n",
    "# imprimir clave-valor \n",
    "for nombres, numeros in agenda.items():\n",
    "    print(f'{nombres.title()}: {numeros}')\n",
    "    claves.append(numeros)\n",
    "\n",
    "# imprimir el valor de juan con get \n",
    "print(agenda.get('juan', 'clave no encontrada'))\n",
    "\n",
    "# borrar todos los datos de agenda \n",
    "agenda.clear()\n",
    "print(agenda)"
   ]
  }
 ],
 "metadata": {
  "kernelspec": {
   "display_name": "work",
   "language": "python",
   "name": "python3"
  },
  "language_info": {
   "codemirror_mode": {
    "name": "ipython",
    "version": 3
   },
   "file_extension": ".py",
   "mimetype": "text/x-python",
   "name": "python",
   "nbconvert_exporter": "python",
   "pygments_lexer": "ipython3",
   "version": "3.9.15"
  }
 },
 "nbformat": 4,
 "nbformat_minor": 2
}
