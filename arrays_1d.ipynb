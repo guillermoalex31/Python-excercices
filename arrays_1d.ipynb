{
 "cells": [
  {
   "cell_type": "code",
   "execution_count": 4,
   "metadata": {},
   "outputs": [
    {
     "name": "stdout",
     "output_type": "stream",
     "text": [
      "[2. 2. 2. 2. 2. 2. 2. 2.]\n"
     ]
    }
   ],
   "source": [
    "#crea un array lleno de ceros con 8 espacios \n",
    "import numpy as np \n",
    "array_1 = np.zeros((8))\n",
    "#convertir todos los ceros en 2\n",
    "array_1[array_1 == 0] = 2\n",
    "print(array_1)"
   ]
  },
  {
   "cell_type": "code",
   "execution_count": 33,
   "metadata": {},
   "outputs": [
    {
     "name": "stdout",
     "output_type": "stream",
     "text": [
      "[ 2  4  6  8 10]\n",
      "la suma de todos los números usando un bucle es 30\n",
      "la suma de los elementos del array usando una funcion de numpy es 30\n",
      "array_revertido: [10  8  6  4  2]\n",
      "[2.]\n",
      "[ 2  4  6  8 10]\n"
     ]
    }
   ],
   "source": [
    "#crea un array que contenga todos los números pares del 1 al 10 \n",
    "array_2 = np.arange(2,11,2)\n",
    "print(array_2)\n",
    "#sumar todos los números del arraty usando un bucle \n",
    "suma = 0\n",
    "for num in array_2:\n",
    "    suma += num\n",
    "print(f'la suma de todos los números usando un bucle es {suma}')\n",
    "#sumar todos los números usando una funcion de numpy\n",
    "suma_2 = array_2.sum()\n",
    "print(f'la suma de los elementos del array usando una funcion de numpy es {suma_2}')\n",
    "#revertir el array y guardarlo en un a variable independiente \n",
    "array_revertido = array_2[::-1]\n",
    "print(f'array_revertido: {array_revertido}')\n",
    "#encontrar elementos comunes entre los tres arrays \n",
    "elementos_comunes1 = np.intersect1d(array_1,array_2)\n",
    "elementos_comunes2 = np.intersect1d(array_2,array_revertido)\n",
    "print(elementos_comunes1)\n",
    "print(elementos_comunes2)"
   ]
  },
  {
   "cell_type": "code",
   "execution_count": 34,
   "metadata": {},
   "outputs": [
    {
     "name": "stdout",
     "output_type": "stream",
     "text": [
      "[1. 1. 1. 1. 1. 1. 1. 1. 1. 1.]\n"
     ]
    }
   ],
   "source": [
    "#crea un array lleno de 1s con la longitud dada por el usuario \n",
    "longitud = int(input('ingresa la longitud del array'))\n",
    "array_3 = np.ones(longitud)\n",
    "print(array_3)"
   ]
  },
  {
   "cell_type": "code",
   "execution_count": 67,
   "metadata": {},
   "outputs": [
    {
     "name": "stdout",
     "output_type": "stream",
     "text": [
      "[56 91 96 40 84 89 86 99 55  6 32 75 23 44 67]\n",
      "1237319680\n",
      "1237319680\n",
      "99\n",
      "62.86666666666667\n",
      "67.0\n",
      "28.03299643079364\n"
     ]
    },
    {
     "name": "stderr",
     "output_type": "stream",
     "text": [
      "C:\\Users\\volca\\AppData\\Local\\Temp\\ipykernel_7048\\1867404388.py:8: RuntimeWarning: overflow encountered in scalar multiply\n",
      "  multiplicacion_1 *= array_4[i]\n"
     ]
    }
   ],
   "source": [
    "#crea un array con 15 números aletorios entre el 1 al 100 \n",
    "array_4 = np.random.randint(1, 100, size=15)\n",
    "print(array_4)\n",
    "\n",
    "#multiplica todos los elementos de un array con un bucle\n",
    "multiplicacion_1 = array_4[0]\n",
    "for i in range(1,15):\n",
    "    multiplicacion_1 *= array_4[i]\n",
    "print(multiplicacion_1)\n",
    "#ahora con una función de numpy\n",
    "multiplicacion_2 = array_4.prod()\n",
    "print(multiplicacion_2)\n",
    "#valor mas alto del array \n",
    "maximo = np.max(array_4)\n",
    "print(maximo)\n",
    "#calcular media\n",
    "media = np.mean(array_4)\n",
    "print(media)\n",
    "#mediana \n",
    "mediana = np.median(array_4)\n",
    "print(mediana)\n",
    "#desviación estamadar\n",
    "des = np.std(array_4)\n",
    "print(des)"
   ]
  },
  {
   "cell_type": "code",
   "execution_count": 65,
   "metadata": {},
   "outputs": [
    {
     "name": "stdout",
     "output_type": "stream",
     "text": [
      "[0.6697342  0.713568   0.93042075 0.88094427 0.02228116 0.86948148\n",
      " 0.87849531 0.14232813 0.45776097 0.25261023 0.54900564 0.1266343\n",
      " 0.36480396 0.89730837 0.02258639]\n",
      "[11.6697342  43.713568   91.93042075 19.88094427 96.02228116 43.86948148\n",
      " 55.87849531 62.14232813 21.45776097 21.25261023 58.54900564 51.1266343\n",
      " 60.36480396 82.89730837 45.02258639]\n",
      "suma arrays con np [11.6697342  43.713568   91.93042075 19.88094427 96.02228116 43.86948148\n",
      " 55.87849531 62.14232813 21.45776097 21.25261023 58.54900564 51.1266343\n",
      " 60.36480396 82.89730837 45.02258639]\n",
      "resta [10.3302658  42.286432   90.06957925 18.11905573 95.97771884 42.13051852\n",
      " 54.12150469 61.85767187 20.54223903 20.74738977 57.45099436 50.8733657\n",
      " 59.63519604 81.10269163 44.97741361]\n",
      "[ 7.3670762  30.6834238  84.66828852 16.73794111  2.13899115 37.38770351\n",
      " 48.31724209  8.82434419  9.61298045  5.30481491 31.84232711  6.45834954\n",
      " 21.88823775 73.57928596  1.01638769]\n",
      "[ 7.3670762  30.6834238  84.66828852 16.73794111  2.13899115 37.38770351\n",
      " 48.31724209  8.82434419  9.61298045  5.30481491 31.84232711  6.45834954\n",
      " 21.88823775 73.57928596  1.01638769]\n"
     ]
    }
   ],
   "source": [
    "\n",
    "#crear un array con 15 números aleatorios decimales entre el 0 y 1\n",
    "array_5 = np.random.uniform(0,1, size=15)\n",
    "print(array_5)\n",
    "#sumar los elementos de ambos arrays con un operador \n",
    "suma_arrays1 = array_4 + array_5\n",
    "print(suma_arrays1)\n",
    "#ahora con numpy\n",
    "suma_arrays2 = np.add(array_4, array_5)\n",
    "print(f'suma arrays con np {suma_arrays2}')\n",
    "#resta \n",
    "resta = np.subtract(array_4,array_5)\n",
    "print(f'resta {resta}')\n",
    "#multiplicacion\n",
    "multi1 = array_4 * array_5\n",
    "print(multi1)\n",
    "# con np\n",
    "multi2 = np.multiply(array_4,array_5)\n",
    "print(multi2)"
   ]
  }
 ],
 "metadata": {
  "kernelspec": {
   "display_name": "work",
   "language": "python",
   "name": "python3"
  },
  "language_info": {
   "codemirror_mode": {
    "name": "ipython",
    "version": 3
   },
   "file_extension": ".py",
   "mimetype": "text/x-python",
   "name": "python",
   "nbconvert_exporter": "python",
   "pygments_lexer": "ipython3",
   "version": "3.9.15"
  }
 },
 "nbformat": 4,
 "nbformat_minor": 2
}
