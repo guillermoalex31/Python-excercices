{
 "cells": [
  {
   "cell_type": "code",
   "execution_count": null,
   "metadata": {},
   "outputs": [],
   "source": [
    "# crear una tupla con tres elementos y imprimir cada uno en un renglón separado \n",
    "tupla1 = ('perro', 'gato', 'pez')\n",
    "for objeto in tupla1:\n",
    "    print(objeto)"
   ]
  },
  {
   "cell_type": "code",
   "execution_count": 2,
   "metadata": {},
   "outputs": [
    {
     "name": "stdout",
     "output_type": "stream",
     "text": [
      "55\n"
     ]
    }
   ],
   "source": [
    "# crea una tupla de elementos y devuleve la suma de todos ellos \n",
    "numeros = (1,2,3,4,5,6,7,8,9,10)\n",
    "print(sum(numeros))"
   ]
  },
  {
   "cell_type": "code",
   "execution_count": 3,
   "metadata": {},
   "outputs": [
    {
     "name": "stdout",
     "output_type": "stream",
     "text": [
      "('h', 'o', 'l', 'a')\n"
     ]
    }
   ],
   "source": [
    "# crear una tupla con strings y crear algoritmo que nos devueva la primer letra de cada string \n",
    "palabras = ('hola', 'ola', 'lápiz', 'abeja')\n",
    "letras = []\n",
    "for i in range(len(palabras)):\n",
    "    letras.append(palabras[i][0])\n",
    "tupla_letras = tuple(letras)\n",
    "print(tupla_letras)"
   ]
  },
  {
   "cell_type": "code",
   "execution_count": 13,
   "metadata": {},
   "outputs": [
    {
     "name": "stdout",
     "output_type": "stream",
     "text": [
      "6\n",
      "24\n",
      "48\n",
      "[6, 5, 4, 3, 2]\n"
     ]
    }
   ],
   "source": [
    "# crea un algoritmo que dado una tupla de enteros devuelva el producto de todos los pares \n",
    "numeros = (6,3,4,5,2)\n",
    "producto = 1\n",
    "for numero in numeros:\n",
    "    if numero % 2 == 0:\n",
    "        producto *= numero\n",
    "        print(producto)\n",
    "# ahora que nos devuelva los números ordenados de forma descendente \n",
    "print(sorted(numeros, reverse=True))"
   ]
  },
  {
   "cell_type": "code",
   "execution_count": 14,
   "metadata": {},
   "outputs": [
    {
     "name": "stdout",
     "output_type": "stream",
     "text": [
      "{1, 2, 3, 4, 5, 6}\n",
      "verdadero\n"
     ]
    }
   ],
   "source": [
    "# crea una tupla con numeros repetidos y que la devuelve pero sin repetir estos \n",
    "numeros2 = (1,2,2,3,4,5,6,3,5,6)\n",
    "print(set(numeros2))\n",
    "\n",
    "# ahora que pida un número y si se encuentra en la tupla devuelva verdadero o falso\n",
    "numero_usuario = int(input('Ingresa un número: '))\n",
    "if numero_usuario in numeros2:\n",
    "    print('verdadero')\n",
    "else:\n",
    "    print('falso')"
   ]
  },
  {
   "cell_type": "code",
   "execution_count": 9,
   "metadata": {},
   "outputs": [
    {
     "name": "stdout",
     "output_type": "stream",
     "text": [
      "(1, 2, 3, 4, 5, 6)\n",
      "6\n",
      "1\n"
     ]
    }
   ],
   "source": [
    "# unir dos tuplas \n",
    "tupla1 = (1, 2, 3)\n",
    "tupla2 = (4, 5, 6)\n",
    "\n",
    "tupla_combinada = tupla1 + tupla2\n",
    "\n",
    "print(tupla_combinada)\n",
    "\n",
    "# que devuelva el máximo y el mínimo \n",
    "print(max(tupla_combinada))\n",
    "print(min(tupla_combinada))\n"
   ]
  },
  {
   "cell_type": "code",
   "execution_count": 11,
   "metadata": {},
   "outputs": [
    {
     "name": "stdout",
     "output_type": "stream",
     "text": [
      "la palabra mas larga es Carlos y la mas corta es Ana\n",
      "('Pedro', 'Ana', 'Carlos', 'María', 'Juan')\n"
     ]
    }
   ],
   "source": [
    "# devolver la palabra mas larga y mas corta\n",
    "nombres = (\"Juan\", \"María\", \"Carlos\", \"Ana\", \"Pedro\")\n",
    "largo = max(nombres, key=len)\n",
    "corto = min(nombres, key=len)\n",
    "print(f'la palabra mas larga es {largo} y la mas corta es {corto}')\n",
    "\n",
    "# devolver el contenido invertido \n",
    "print(nombres[::-1])"
   ]
  },
  {
   "cell_type": "code",
   "execution_count": 12,
   "metadata": {},
   "outputs": [
    {
     "name": "stdout",
     "output_type": "stream",
     "text": [
      "(3, 7, 7)\n"
     ]
    }
   ],
   "source": [
    "# script donde una dupla de dupalas y sumar los elementos de las subtuplas\n",
    "tupla_grande = ((1,2),(3,4),(4,3))\n",
    "suma = []\n",
    "for tupla in tupla_grande:\n",
    "    suma.append(sum(tupla))\n",
    "suma = tuple(suma)\n",
    "print(suma)"
   ]
  }
 ],
 "metadata": {
  "kernelspec": {
   "display_name": "work",
   "language": "python",
   "name": "python3"
  },
  "language_info": {
   "codemirror_mode": {
    "name": "ipython",
    "version": 3
   },
   "file_extension": ".py",
   "mimetype": "text/x-python",
   "name": "python",
   "nbconvert_exporter": "python",
   "pygments_lexer": "ipython3",
   "version": "3.9.15"
  }
 },
 "nbformat": 4,
 "nbformat_minor": 2
}
