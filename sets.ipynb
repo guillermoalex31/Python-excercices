{
 "cells": [
  {
   "cell_type": "code",
   "execution_count": 1,
   "metadata": {},
   "outputs": [
    {
     "name": "stdout",
     "output_type": "stream",
     "text": [
      "{1, 2, 3, 5}\n"
     ]
    }
   ],
   "source": [
    "#crea un set y elimina uno de sus elementos \n",
    "set1 = {1, 2, 3, 4, 5}\n",
    "set1.discard(4)\n",
    "print(set1)"
   ]
  },
  {
   "cell_type": "code",
   "execution_count": 2,
   "metadata": {},
   "outputs": [
    {
     "name": "stdout",
     "output_type": "stream",
     "text": [
      "<class 'set'>\n"
     ]
    }
   ],
   "source": [
    "# crea un set vacío \n",
    "set_vacio = set()\n",
    "print(set)"
   ]
  },
  {
   "cell_type": "code",
   "execution_count": 3,
   "metadata": {},
   "outputs": [
    {
     "name": "stdout",
     "output_type": "stream",
     "text": [
      "La union entre ambos sets es {1, 2, 3, 4, 5, 6, 7, 8}, la inntersección es {5} y su diferencia {1, 2, 3}\n"
     ]
    }
   ],
   "source": [
    "# crea dos sets y encuentra su uníon, intersección y su diferencia \n",
    "set2 = {4, 5, 6, 7, 8}\n",
    "print(f'La union entre ambos sets es {set1 | set2}, la inntersección es {set1 & set2} y su diferencia {set1 - set2}')"
   ]
  },
  {
   "cell_type": "code",
   "execution_count": 4,
   "metadata": {},
   "outputs": [
    {
     "name": "stdout",
     "output_type": "stream",
     "text": [
      "5\n",
      "1\n"
     ]
    }
   ],
   "source": [
    "# devolver el máximo y minimo de un set \n",
    "print(max(set1))\n",
    "print(min(set1))"
   ]
  },
  {
   "cell_type": "code",
   "execution_count": 5,
   "metadata": {},
   "outputs": [
    {
     "name": "stdout",
     "output_type": "stream",
     "text": [
      "{1, 2, 3, 4, 5, 6, 7, 8}\n"
     ]
    }
   ],
   "source": [
    "# crear un script dond dados dos sets, devuelva solo los elementos únicos de los arrays \n",
    "print(set1 | set2)"
   ]
  },
  {
   "cell_type": "code",
   "execution_count": 6,
   "metadata": {},
   "outputs": [
    {
     "name": "stdout",
     "output_type": "stream",
     "text": [
      "el color azul si está en el set\n"
     ]
    }
   ],
   "source": [
    "# crear un set de colores y compprobar si un set un color se encuentra en el set\n",
    "colores = {'rojo', 'azul', 'verde', 'rosa'}\n",
    "# ingresar color a verificar\n",
    "color_usuario = input('ingresa un color')\n",
    "# verificar si el coloor está en el set\n",
    "if color_usuario in colores:\n",
    "    print(f'el color {color_usuario} si está en el set')\n",
    "else:\n",
    "    print(f'el color {color_usuario} no está en el set')"
   ]
  },
  {
   "cell_type": "code",
   "execution_count": null,
   "metadata": {},
   "outputs": [],
   "source": [
    "# Definir dos sets de enteros\n",
    "set1 = {1, 2, 3, 4, 5}\n",
    "set2 = {4, 5, 6, 7, 8}\n",
    "\n",
    "# Crear un nuevo set con los elementos del primer set\n",
    "nuevo_set = set(set1)\n",
    "\n",
    "# Imprimir el nuevo set\n",
    "print(\"Nuevo set:\", nuevo_set)\n"
   ]
  },
  {
   "cell_type": "code",
   "execution_count": 7,
   "metadata": {},
   "outputs": [
    {
     "name": "stdout",
     "output_type": "stream",
     "text": [
      "1\n",
      "2\n",
      "6\n",
      "24\n",
      "120\n",
      "720\n",
      "5040\n"
     ]
    }
   ],
   "source": [
    "# crea un set de enteros y devuelve el producto de todos los números dentro del set \n",
    "numeros = {1,2,3,4,5,6,7}\n",
    "# definir el producto \n",
    "producto  = 1\n",
    "# multiplicar cada producto por cada número\n",
    "for numero in numeros:\n",
    "    producto *= numero\n",
    "    print(producto)"
   ]
  }
 ],
 "metadata": {
  "kernelspec": {
   "display_name": "work",
   "language": "python",
   "name": "python3"
  },
  "language_info": {
   "codemirror_mode": {
    "name": "ipython",
    "version": 3
   },
   "file_extension": ".py",
   "mimetype": "text/x-python",
   "name": "python",
   "nbconvert_exporter": "python",
   "pygments_lexer": "ipython3",
   "version": "3.9.15"
  }
 },
 "nbformat": 4,
 "nbformat_minor": 2
}
