{
 "cells": [
  {
   "cell_type": "code",
   "execution_count": 9,
   "metadata": {},
   "outputs": [
    {
     "name": "stdout",
     "output_type": "stream",
     "text": [
      "Juan : 17\n",
      "María : 18\n",
      "[{'nombre': 'juan', 'edad': 17}, {'nombre': 'maría', 'edad': 18}, {'nombre': 'memo', 'edad': 18}]\n",
      "[{'nombre': 'juan', 'edad': 17}, {'nombre': 'memo', 'edad': 18}]\n",
      "[{'nombre': 'juan', 'edad': 18}, {'nombre': 'memo', 'edad': 18}]\n"
     ]
    }
   ],
   "source": [
    "estudiantes = [{'nombre' : 'juan','edad' : 17}, {'nombre' : 'maría','edad' : 18}]\n",
    "\n",
    "# imprime el nombre y edad de cada estudiante\n",
    "for estudiante in estudiantes:\n",
    "    nombre = estudiante['nombre']\n",
    "    edad = estudiante['edad']\n",
    "    print(nombre.title(), ':', edad)\n",
    "\n",
    "# agrega a un nuevo estudiante e imprime la lista actualizada \n",
    "estudiantes.append({'nombre' : 'memo','edad' : 18})\n",
    "print(estudiantes)\n",
    "\n",
    "# elimina al segundo estudiante e imprime la lista\n",
    "estudiantes.pop(1)\n",
    "print(estudiantes)\n",
    "\n",
    "# actualiza la edad del primer estudiante \n",
    "estudiantes[0]['edad'] = 18\n",
    "print(estudiantes)"
   ]
  }
 ],
 "metadata": {
  "kernelspec": {
   "display_name": "work",
   "language": "python",
   "name": "python3"
  },
  "language_info": {
   "codemirror_mode": {
    "name": "ipython",
    "version": 3
   },
   "file_extension": ".py",
   "mimetype": "text/x-python",
   "name": "python",
   "nbconvert_exporter": "python",
   "pygments_lexer": "ipython3",
   "version": "3.9.15"
  }
 },
 "nbformat": 4,
 "nbformat_minor": 2
}
