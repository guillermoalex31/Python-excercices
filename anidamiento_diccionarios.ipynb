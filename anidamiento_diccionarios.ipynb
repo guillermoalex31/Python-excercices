{
 "cells": [
  {
   "cell_type": "code",
   "execution_count": 5,
   "metadata": {},
   "outputs": [
    {
     "name": "stdout",
     "output_type": "stream",
     "text": [
      "Producto: manzana\n",
      "Precio: 10\n",
      "---------\n",
      "Producto: plátano\n",
      "Precio: 7\n",
      "---------\n",
      "{1: {'nombre': 'manzana', 'precio': 10}, 2: {'nombre': 'plátano', 'precio': 7}, 3: {'nombre': 'zanahoria', 'precio': 12}}\n"
     ]
    }
   ],
   "source": [
    "productos = {\n",
    "    1 : {\n",
    "        'nombre' : 'manzana',\n",
    "        'precio' : 10\n",
    "    },\n",
    "    2 : {\n",
    "        'nombre' : 'plátano',\n",
    "        'precio' : 7\n",
    "    }\n",
    "}\n",
    "\n",
    "# imprime el nombre y precio de cada producto \n",
    "for producto, data in productos.items():\n",
    "    nombre = data['nombre']\n",
    "    precio = data['precio']\n",
    "    print(f'Producto: {nombre}\\nPrecio: {precio}\\n---------')\n",
    "\n",
    "# agrega un nuevo producto \n",
    "productos[3] = {'nombre' : 'zanahoria', 'precio' : 12}\n",
    "print(productos) "
   ]
  },
  {
   "cell_type": "code",
   "execution_count": 17,
   "metadata": {},
   "outputs": [
    {
     "name": "stdout",
     "output_type": "stream",
     "text": [
      "Equipo: Pumas \n",
      "Jugadores:\n",
      "  Predro\n",
      "  Juan\n",
      "  Ramiro\n",
      "------------\n",
      "Equipo: America \n",
      "Jugadores:\n",
      "  Chino\n",
      "  Messi\n",
      "  El Bicho\n",
      "------------\n",
      "Equipo: Chivas \n",
      "Jugadores:\n",
      "  Neymar\n",
      "  Memo Ochoa\n",
      "  Chicharo\n",
      "------------\n",
      "{1: {'nombre': 'pumas', 'jugadores': ['predro', 'juan', 'ramiro']}, 2: {'nombre': 'america', 'jugadores': ['chino', 'messi', 'el bicho']}, 3: {'nombre': 'chivas', 'jugadores': ['neymar', 'memo ochoa', 'chicharo']}, 4: {'nombre': 'xolos', 'jugadores': ['pelé', 'chucky', 'tony']}}\n",
      "{1: {'nombre': 'pumas', 'jugadores': ['sergio', 'juan', 'ramiro']}, 2: {'nombre': 'america', 'jugadores': ['chino', 'messi', 'el bicho']}, 3: {'nombre': 'chivas', 'jugadores': ['neymar', 'memo ochoa', 'chicharo']}, 4: {'nombre': 'xolos', 'jugadores': ['pelé', 'chucky', 'tony']}}\n"
     ]
    }
   ],
   "source": [
    "equipos = {\n",
    "    1 : {\n",
    "        'nombre' : 'pumas',\n",
    "        'jugadores' : ['predro', 'juan', 'ramiro']\n",
    "    },\n",
    "    2 : {\n",
    "        'nombre' : 'america',\n",
    "        'jugadores' : ['chino', 'messi', 'el bicho']\n",
    "    },\n",
    "    3 : {\n",
    "        'nombre' : 'chivas',\n",
    "        'jugadores' : ['neymar', 'memo ochoa', 'chicharo']\n",
    "    }\n",
    "}\n",
    "\n",
    "# imprime el nombre del equipo y sus jugadores \n",
    "for equipo, datos in equipos.items():\n",
    "    nombre = datos['nombre']\n",
    "    jugadores = datos['jugadores']\n",
    "    print(f'Equipo: {nombre.title()} \\nJugadores:')\n",
    "    for jugador in jugadores:\n",
    "        print(' ', jugador.title())\n",
    "    print('------------')\n",
    "\n",
    "# agrega un nuevo equipo\n",
    "equipos[4] = {\n",
    "    'nombre' : 'xolos',\n",
    "    'jugadores' : ['pelé', 'chucky', 'tony']\n",
    "}\n",
    "print(equipos)\n",
    "\n",
    "# reemplaza a un jugador de algún equipo\n",
    "equipos[1]['jugadores'][0] = ('sergio')\n",
    "print(equipos)"
   ]
  }
 ],
 "metadata": {
  "kernelspec": {
   "display_name": "work",
   "language": "python",
   "name": "python3"
  },
  "language_info": {
   "codemirror_mode": {
    "name": "ipython",
    "version": 3
   },
   "file_extension": ".py",
   "mimetype": "text/x-python",
   "name": "python",
   "nbconvert_exporter": "python",
   "pygments_lexer": "ipython3",
   "version": "3.9.15"
  }
 },
 "nbformat": 4,
 "nbformat_minor": 2
}
